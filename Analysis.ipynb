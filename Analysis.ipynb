{
 "cells": [
  {
   "cell_type": "code",
   "execution_count": 1,
   "metadata": {},
   "outputs": [],
   "source": [
    "import os\n",
    "import psycopg2 as ps\n",
    "import pandas as pd"
   ]
  },
  {
   "cell_type": "code",
   "execution_count": 2,
   "metadata": {},
   "outputs": [],
   "source": [
    "conn = ps.connect(\n",
    "    host='localhost',\n",
    "    port='5432',\n",
    "    dbname='chinook',\n",
    "    user='chinook',\n",
    "    password='password')"
   ]
  },
  {
   "cell_type": "markdown",
   "metadata": {},
   "source": [
    "# Senior-most employee based on job title"
   ]
  },
  {
   "cell_type": "code",
   "execution_count": 5,
   "metadata": {},
   "outputs": [
    {
     "name": "stderr",
     "output_type": "stream",
     "text": [
      "C:\\Users\\sethi\\AppData\\Local\\Temp\\ipykernel_192076\\2139371420.py:1: UserWarning: pandas only supports SQLAlchemy connectable (engine/connection) or database string URI or sqlite3 DBAPI2 connection. Other DBAPI2 objects are not tested. Please consider using SQLAlchemy.\n",
      "  df = pd.read_sql_query(\"\"\"SELECT\n"
     ]
    },
    {
     "data": {
      "text/html": [
       "<div>\n",
       "<style scoped>\n",
       "    .dataframe tbody tr th:only-of-type {\n",
       "        vertical-align: middle;\n",
       "    }\n",
       "\n",
       "    .dataframe tbody tr th {\n",
       "        vertical-align: top;\n",
       "    }\n",
       "\n",
       "    .dataframe thead th {\n",
       "        text-align: right;\n",
       "    }\n",
       "</style>\n",
       "<table border=\"1\" class=\"dataframe\">\n",
       "  <thead>\n",
       "    <tr style=\"text-align: right;\">\n",
       "      <th></th>\n",
       "      <th>name</th>\n",
       "      <th>title</th>\n",
       "    </tr>\n",
       "  </thead>\n",
       "  <tbody>\n",
       "    <tr>\n",
       "      <th>0</th>\n",
       "      <td>Andrew Adams</td>\n",
       "      <td>General Manager</td>\n",
       "    </tr>\n",
       "  </tbody>\n",
       "</table>\n",
       "</div>"
      ],
      "text/plain": [
       "           name            title\n",
       "0  Andrew Adams  General Manager"
      ]
     },
     "execution_count": 5,
     "metadata": {},
     "output_type": "execute_result"
    }
   ],
   "source": [
    "df = pd.read_sql_query(\"\"\"SELECT \n",
    "                            CONCAT(first_name, ' ', last_name) AS name,\n",
    "                            title\n",
    "                        FROM\n",
    "                            employee\n",
    "                        WHERE \n",
    "                            reports_to IS NULL\"\"\",\n",
    "                        con=conn)\n",
    "df"
   ]
  },
  {
   "cell_type": "markdown",
   "metadata": {},
   "source": [
    "Andrew Adams holds the highest position as Senior General Manager \n",
    "<br><br>\n",
    "Actionable Insights:\n",
    "1. Involve Madan Mohan in high-level strategic decisions.\n",
    "2. Develop a succession plan for this critical role.\n",
    "3. Analyze the career path that led to this position to guide future leadership development.\n"
   ]
  },
  {
   "cell_type": "markdown",
   "metadata": {},
   "source": [
    "# Employee Hierarchy"
   ]
  },
  {
   "cell_type": "code",
   "execution_count": 14,
   "metadata": {},
   "outputs": [
    {
     "name": "stderr",
     "output_type": "stream",
     "text": [
      "C:\\Users\\sethi\\AppData\\Local\\Temp\\ipykernel_192076\\1443834522.py:1: UserWarning: pandas only supports SQLAlchemy connectable (engine/connection) or database string URI or sqlite3 DBAPI2 connection. Other DBAPI2 objects are not tested. Please consider using SQLAlchemy.\n",
      "  df = pd.read_sql_query(\"\"\"SELECT\n"
     ]
    },
    {
     "data": {
      "text/html": [
       "<div>\n",
       "<style scoped>\n",
       "    .dataframe tbody tr th:only-of-type {\n",
       "        vertical-align: middle;\n",
       "    }\n",
       "\n",
       "    .dataframe tbody tr th {\n",
       "        vertical-align: top;\n",
       "    }\n",
       "\n",
       "    .dataframe thead th {\n",
       "        text-align: right;\n",
       "    }\n",
       "</style>\n",
       "<table border=\"1\" class=\"dataframe\">\n",
       "  <thead>\n",
       "    <tr style=\"text-align: right;\">\n",
       "      <th></th>\n",
       "      <th>name</th>\n",
       "      <th>title</th>\n",
       "      <th>reporting_count</th>\n",
       "      <th>reporting</th>\n",
       "    </tr>\n",
       "  </thead>\n",
       "  <tbody>\n",
       "    <tr>\n",
       "      <th>0</th>\n",
       "      <td>Andrew Adams</td>\n",
       "      <td>General Manager</td>\n",
       "      <td>2</td>\n",
       "      <td>[Michael Mitchell, Nancy Edwards]</td>\n",
       "    </tr>\n",
       "    <tr>\n",
       "      <th>1</th>\n",
       "      <td>Michael Mitchell</td>\n",
       "      <td>IT Manager</td>\n",
       "      <td>2</td>\n",
       "      <td>[Robert King, Laura Callahan]</td>\n",
       "    </tr>\n",
       "    <tr>\n",
       "      <th>2</th>\n",
       "      <td>Nancy Edwards</td>\n",
       "      <td>Sales Manager</td>\n",
       "      <td>3</td>\n",
       "      <td>[Steve Johnson, Jane Peacock, Margaret Park]</td>\n",
       "    </tr>\n",
       "  </tbody>\n",
       "</table>\n",
       "</div>"
      ],
      "text/plain": [
       "               name            title  reporting_count  \\\n",
       "0      Andrew Adams  General Manager                2   \n",
       "1  Michael Mitchell       IT Manager                2   \n",
       "2     Nancy Edwards    Sales Manager                3   \n",
       "\n",
       "                                      reporting  \n",
       "0             [Michael Mitchell, Nancy Edwards]  \n",
       "1                 [Robert King, Laura Callahan]  \n",
       "2  [Steve Johnson, Jane Peacock, Margaret Park]  "
      ]
     },
     "execution_count": 14,
     "metadata": {},
     "output_type": "execute_result"
    }
   ],
   "source": [
    "df = pd.read_sql_query(\"\"\"SELECT\n",
    "                            CONCAT(m.first_name, ' ', m.last_name) AS name,\n",
    "                            m.title,\n",
    "                            COUNT(e.employee_id) AS reporting_count,\n",
    "                            ARRAY_AGG(CONCAT(e.first_name, ' ', e.last_name)) AS reporting\n",
    "                        FROM\n",
    "                            employee m\n",
    "                        JOIN\n",
    "                            employee e\n",
    "                        ON\n",
    "                            m.employee_id = e.reports_to\n",
    "                        GROUP BY\n",
    "                            name,\n",
    "                            m.title\n",
    "                        ORDER BY\n",
    "                            name\"\"\",\n",
    "                        con=conn)\n",
    "df"
   ]
  },
  {
   "cell_type": "markdown",
   "metadata": {},
   "source": [
    "<b>Hierarchy Structure:</b>\n",
    "<br>\n",
    "The data illustrates a managerial hierarchy within the organization. \n",
    "<br>\n",
    "At the top, you have Andrew Adams as the General Manager, who oversees two managers: Michael Mitchell and Nancy Edwards.\n",
    "<br>\n",
    "Michael Mitchell holds the title of IT Manager and has two direct reports: Robert King and Laura Callahan.\n",
    "<br>\n",
    "Nancy Edwards is the Sales Manager with three direct reports: Steve Johnson, Jane Peacock, and Margaret Park."
   ]
  },
  {
   "cell_type": "markdown",
   "metadata": {},
   "source": [
    "# Best performing sales rep based on customer count"
   ]
  },
  {
   "cell_type": "code",
   "execution_count": 15,
   "metadata": {},
   "outputs": [
    {
     "name": "stderr",
     "output_type": "stream",
     "text": [
      "C:\\Users\\sethi\\AppData\\Local\\Temp\\ipykernel_192076\\3659069264.py:1: UserWarning: pandas only supports SQLAlchemy connectable (engine/connection) or database string URI or sqlite3 DBAPI2 connection. Other DBAPI2 objects are not tested. Please consider using SQLAlchemy.\n",
      "  df = pd.read_sql_query(\"\"\"SELECT\n"
     ]
    },
    {
     "data": {
      "text/html": [
       "<div>\n",
       "<style scoped>\n",
       "    .dataframe tbody tr th:only-of-type {\n",
       "        vertical-align: middle;\n",
       "    }\n",
       "\n",
       "    .dataframe tbody tr th {\n",
       "        vertical-align: top;\n",
       "    }\n",
       "\n",
       "    .dataframe thead th {\n",
       "        text-align: right;\n",
       "    }\n",
       "</style>\n",
       "<table border=\"1\" class=\"dataframe\">\n",
       "  <thead>\n",
       "    <tr style=\"text-align: right;\">\n",
       "      <th></th>\n",
       "      <th>name</th>\n",
       "      <th>title</th>\n",
       "      <th>customer_count</th>\n",
       "    </tr>\n",
       "  </thead>\n",
       "  <tbody>\n",
       "    <tr>\n",
       "      <th>0</th>\n",
       "      <td>Jane Peacock</td>\n",
       "      <td>Sales Support Agent</td>\n",
       "      <td>21</td>\n",
       "    </tr>\n",
       "    <tr>\n",
       "      <th>1</th>\n",
       "      <td>Margaret Park</td>\n",
       "      <td>Sales Support Agent</td>\n",
       "      <td>20</td>\n",
       "    </tr>\n",
       "    <tr>\n",
       "      <th>2</th>\n",
       "      <td>Steve Johnson</td>\n",
       "      <td>Sales Support Agent</td>\n",
       "      <td>18</td>\n",
       "    </tr>\n",
       "  </tbody>\n",
       "</table>\n",
       "</div>"
      ],
      "text/plain": [
       "            name                title  customer_count\n",
       "0   Jane Peacock  Sales Support Agent              21\n",
       "1  Margaret Park  Sales Support Agent              20\n",
       "2  Steve Johnson  Sales Support Agent              18"
      ]
     },
     "execution_count": 15,
     "metadata": {},
     "output_type": "execute_result"
    }
   ],
   "source": [
    "df = pd.read_sql_query(\"\"\"SELECT\n",
    "                            CONCAT(e.first_name, ' ', e.last_name) AS name,\n",
    "                            e.title,\n",
    "                            COUNT(c.customer_id) AS customer_count\n",
    "                        FROM\n",
    "                            employee e\n",
    "                        LEFT JOIN\n",
    "                            customer c\n",
    "                        ON\n",
    "                            e.employee_id = c.support_rep_id\n",
    "                        GROUP BY\n",
    "                            name, e.title\n",
    "                        HAVING\n",
    "                            COUNT(c.customer_id) > 0\n",
    "                        ORDER BY\n",
    "                            customer_count DESC\"\"\",\n",
    "                        con=conn)\n",
    "df"
   ]
  },
  {
   "cell_type": "markdown",
   "metadata": {},
   "source": [
    "# Customer who spend the most"
   ]
  },
  {
   "cell_type": "code",
   "execution_count": 11,
   "metadata": {},
   "outputs": [
    {
     "name": "stderr",
     "output_type": "stream",
     "text": [
      "C:\\Users\\sethi\\AppData\\Local\\Temp\\ipykernel_192076\\1187535012.py:1: UserWarning: pandas only supports SQLAlchemy connectable (engine/connection) or database string URI or sqlite3 DBAPI2 connection. Other DBAPI2 objects are not tested. Please consider using SQLAlchemy.\n",
      "  df = pd.read_sql_query(\"\"\"SELECT\n"
     ]
    },
    {
     "data": {
      "text/html": [
       "<div>\n",
       "<style scoped>\n",
       "    .dataframe tbody tr th:only-of-type {\n",
       "        vertical-align: middle;\n",
       "    }\n",
       "\n",
       "    .dataframe tbody tr th {\n",
       "        vertical-align: top;\n",
       "    }\n",
       "\n",
       "    .dataframe thead th {\n",
       "        text-align: right;\n",
       "    }\n",
       "</style>\n",
       "<table border=\"1\" class=\"dataframe\">\n",
       "  <thead>\n",
       "    <tr style=\"text-align: right;\">\n",
       "      <th></th>\n",
       "      <th>customer_name</th>\n",
       "      <th>spend</th>\n",
       "    </tr>\n",
       "  </thead>\n",
       "  <tbody>\n",
       "    <tr>\n",
       "      <th>0</th>\n",
       "      <td>Helena Holý</td>\n",
       "      <td>49.62</td>\n",
       "    </tr>\n",
       "    <tr>\n",
       "      <th>1</th>\n",
       "      <td>Richard Cunningham</td>\n",
       "      <td>47.62</td>\n",
       "    </tr>\n",
       "    <tr>\n",
       "      <th>2</th>\n",
       "      <td>Luis Rojas</td>\n",
       "      <td>46.62</td>\n",
       "    </tr>\n",
       "    <tr>\n",
       "      <th>3</th>\n",
       "      <td>Ladislav Kovács</td>\n",
       "      <td>45.62</td>\n",
       "    </tr>\n",
       "    <tr>\n",
       "      <th>4</th>\n",
       "      <td>Hugh O'Reilly</td>\n",
       "      <td>45.62</td>\n",
       "    </tr>\n",
       "    <tr>\n",
       "      <th>5</th>\n",
       "      <td>Frank Ralston</td>\n",
       "      <td>43.62</td>\n",
       "    </tr>\n",
       "    <tr>\n",
       "      <th>6</th>\n",
       "      <td>Fynn Zimmermann</td>\n",
       "      <td>43.62</td>\n",
       "    </tr>\n",
       "    <tr>\n",
       "      <th>7</th>\n",
       "      <td>Julia Barnett</td>\n",
       "      <td>43.62</td>\n",
       "    </tr>\n",
       "    <tr>\n",
       "      <th>8</th>\n",
       "      <td>Victor Stevens</td>\n",
       "      <td>42.62</td>\n",
       "    </tr>\n",
       "    <tr>\n",
       "      <th>9</th>\n",
       "      <td>Astrid Gruber</td>\n",
       "      <td>42.62</td>\n",
       "    </tr>\n",
       "  </tbody>\n",
       "</table>\n",
       "</div>"
      ],
      "text/plain": [
       "        customer_name  spend\n",
       "0         Helena Holý  49.62\n",
       "1  Richard Cunningham  47.62\n",
       "2          Luis Rojas  46.62\n",
       "3     Ladislav Kovács  45.62\n",
       "4       Hugh O'Reilly  45.62\n",
       "5       Frank Ralston  43.62\n",
       "6     Fynn Zimmermann  43.62\n",
       "7       Julia Barnett  43.62\n",
       "8      Victor Stevens  42.62\n",
       "9       Astrid Gruber  42.62"
      ]
     },
     "execution_count": 11,
     "metadata": {},
     "output_type": "execute_result"
    }
   ],
   "source": [
    "df = pd.read_sql_query(\"\"\"SELECT\n",
    "                            CONCAT(c.first_name, ' ', c.last_name) AS customer_name,\n",
    "                            SUM(total) AS spend\n",
    "                        FROM\n",
    "                            customer c\n",
    "                        LEFT JOIN\n",
    "                            invoice i\n",
    "                        ON\n",
    "                            c.customer_id = i.customer_id\n",
    "                        GROUP BY\n",
    "                            customer_name\n",
    "                        ORDER BY\n",
    "                            spend DESC\n",
    "                        LIMIT 10\"\"\",\n",
    "                        con=conn)\n",
    "df"
   ]
  },
  {
   "cell_type": "code",
   "execution_count": 13,
   "metadata": {},
   "outputs": [
    {
     "name": "stderr",
     "output_type": "stream",
     "text": [
      "C:\\Users\\sethi\\AppData\\Local\\Temp\\ipykernel_192076\\923522913.py:1: UserWarning: pandas only supports SQLAlchemy connectable (engine/connection) or database string URI or sqlite3 DBAPI2 connection. Other DBAPI2 objects are not tested. Please consider using SQLAlchemy.\n",
      "  df = pd.read_sql_query(\"\"\"SELECT\n"
     ]
    },
    {
     "data": {
      "text/html": [
       "<div>\n",
       "<style scoped>\n",
       "    .dataframe tbody tr th:only-of-type {\n",
       "        vertical-align: middle;\n",
       "    }\n",
       "\n",
       "    .dataframe tbody tr th {\n",
       "        vertical-align: top;\n",
       "    }\n",
       "\n",
       "    .dataframe thead th {\n",
       "        text-align: right;\n",
       "    }\n",
       "</style>\n",
       "<table border=\"1\" class=\"dataframe\">\n",
       "  <thead>\n",
       "    <tr style=\"text-align: right;\">\n",
       "      <th></th>\n",
       "      <th>city</th>\n",
       "      <th>revenue</th>\n",
       "    </tr>\n",
       "  </thead>\n",
       "  <tbody>\n",
       "    <tr>\n",
       "      <th>0</th>\n",
       "      <td>Prague</td>\n",
       "      <td>90.24</td>\n",
       "    </tr>\n",
       "    <tr>\n",
       "      <th>1</th>\n",
       "      <td>Paris</td>\n",
       "      <td>77.24</td>\n",
       "    </tr>\n",
       "    <tr>\n",
       "      <th>2</th>\n",
       "      <td>Mountain View</td>\n",
       "      <td>77.24</td>\n",
       "    </tr>\n",
       "    <tr>\n",
       "      <th>3</th>\n",
       "      <td>São Paulo</td>\n",
       "      <td>75.24</td>\n",
       "    </tr>\n",
       "    <tr>\n",
       "      <th>4</th>\n",
       "      <td>Berlin</td>\n",
       "      <td>75.24</td>\n",
       "    </tr>\n",
       "    <tr>\n",
       "      <th>5</th>\n",
       "      <td>London</td>\n",
       "      <td>75.24</td>\n",
       "    </tr>\n",
       "    <tr>\n",
       "      <th>6</th>\n",
       "      <td>Fort Worth</td>\n",
       "      <td>47.62</td>\n",
       "    </tr>\n",
       "    <tr>\n",
       "      <th>7</th>\n",
       "      <td>Santiago</td>\n",
       "      <td>46.62</td>\n",
       "    </tr>\n",
       "    <tr>\n",
       "      <th>8</th>\n",
       "      <td>Dublin</td>\n",
       "      <td>45.62</td>\n",
       "    </tr>\n",
       "    <tr>\n",
       "      <th>9</th>\n",
       "      <td>Budapest</td>\n",
       "      <td>45.62</td>\n",
       "    </tr>\n",
       "  </tbody>\n",
       "</table>\n",
       "</div>"
      ],
      "text/plain": [
       "            city  revenue\n",
       "0         Prague    90.24\n",
       "1          Paris    77.24\n",
       "2  Mountain View    77.24\n",
       "3      São Paulo    75.24\n",
       "4         Berlin    75.24\n",
       "5         London    75.24\n",
       "6     Fort Worth    47.62\n",
       "7       Santiago    46.62\n",
       "8         Dublin    45.62\n",
       "9       Budapest    45.62"
      ]
     },
     "execution_count": 13,
     "metadata": {},
     "output_type": "execute_result"
    }
   ],
   "source": [
    "df = pd.read_sql_query(\"\"\"SELECT\n",
    "                            billing_city AS city,\n",
    "                            SUM(total) AS revenue\n",
    "                        FROM\n",
    "                            invoice\n",
    "                        GROUP BY\n",
    "                            billing_city\n",
    "                        ORDER BY\n",
    "                            revenue DESC\n",
    "                        LIMIT 10\"\"\",\n",
    "                        con=conn)\n",
    "df"
   ]
  }
 ],
 "metadata": {
  "kernelspec": {
   "display_name": "Chinook_Data_Analysis-fMfnuL_x",
   "language": "python",
   "name": "python3"
  },
  "language_info": {
   "codemirror_mode": {
    "name": "ipython",
    "version": 3
   },
   "file_extension": ".py",
   "mimetype": "text/x-python",
   "name": "python",
   "nbconvert_exporter": "python",
   "pygments_lexer": "ipython3",
   "version": "3.12.2"
  }
 },
 "nbformat": 4,
 "nbformat_minor": 2
}
